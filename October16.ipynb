{
 "cells": [
  {
   "cell_type": "code",
   "execution_count": 2,
   "metadata": {},
   "outputs": [],
   "source": [
    "import nltk"
   ]
  },
  {
   "cell_type": "code",
   "execution_count": 3,
   "metadata": {},
   "outputs": [
    {
     "name": "stdout",
     "output_type": "stream",
     "text": [
      "(S\n",
      "  (NP the/DT little/JJ yellow/JJ dog/NN)\n",
      "  barked/VBD\n",
      "  at/IN\n",
      "  (NP the/DT cat/NN))\n"
     ]
    }
   ],
   "source": [
    "sentence = [(\"the\", \"DT\"), (\"little\", \"JJ\"), (\"yellow\", \"JJ\"),(\"dog\", \"NN\"), (\"barked\", \"VBD\"), (\"at\", \"IN\"),  (\"the\", \"DT\"), (\"cat\", \"NN\")]\n",
    "grammar = \"NP: {<DT>?<JJ>*<NN>}\"\n",
    "#productions from CFG for NP and VP\n",
    "c = nltk.RegexpParser(grammar)\n",
    "result = c.parse(sentence)\n",
    "print(result)"
   ]
  },
  {
   "cell_type": "code",
   "execution_count": 4,
   "metadata": {},
   "outputs": [],
   "source": [
    "result.draw()"
   ]
  },
  {
   "cell_type": "code",
   "execution_count": 22,
   "metadata": {},
   "outputs": [],
   "source": [
    "sentence=\"Now we are engaged in a great civil war, testing whether that nation, or any nation so conceived and so dedicated, can long endure.\"\n",
    "nltk_tokens = nltk.word_tokenize(sentence)\n",
    "token_sentence=nltk.pos_tag(nltk_tokens)\n",
    "grammar= \"NP: {<DT>?<JJ>*<NN>}\""
   ]
  },
  {
   "cell_type": "raw",
   "metadata": {},
   "source": []
  },
  {
   "cell_type": "code",
   "execution_count": 24,
   "metadata": {},
   "outputs": [
    {
     "name": "stdout",
     "output_type": "stream",
     "text": [
      "(S\n",
      "  Now/RB\n",
      "  we/PRP\n",
      "  are/VBP\n",
      "  engaged/VBN\n",
      "  in/IN\n",
      "  (NP a/DT great/JJ civil/JJ war/NN)\n",
      "  ,/,\n",
      "  testing/VBG\n",
      "  whether/IN\n",
      "  (NP that/DT nation/NN)\n",
      "  ,/,\n",
      "  or/CC\n",
      "  (NP any/DT nation/NN)\n",
      "  so/RB\n",
      "  conceived/JJ\n",
      "  and/CC\n",
      "  so/RB\n",
      "  dedicated/JJ\n",
      "  ,/,\n",
      "  can/MD\n",
      "  long/VB\n",
      "  (NP endure/NN)\n",
      "  ./.)\n"
     ]
    }
   ],
   "source": [
    "c = nltk.RegexpParser(grammar)\n",
    "result = c.parse(token_sentence)\n",
    "print(result)"
   ]
  },
  {
   "cell_type": "code",
   "execution_count": null,
   "metadata": {},
   "outputs": [],
   "source": [
    "result.draw()"
   ]
  },
  {
   "cell_type": "code",
   "execution_count": null,
   "metadata": {},
   "outputs": [],
   "source": []
  }
 ],
 "metadata": {
  "kernelspec": {
   "display_name": "Python 3",
   "language": "python",
   "name": "python3"
  },
  "language_info": {
   "codemirror_mode": {
    "name": "ipython",
    "version": 3
   },
   "file_extension": ".py",
   "mimetype": "text/x-python",
   "name": "python",
   "nbconvert_exporter": "python",
   "pygments_lexer": "ipython3",
   "version": "3.8.3"
  }
 },
 "nbformat": 4,
 "nbformat_minor": 4
}
